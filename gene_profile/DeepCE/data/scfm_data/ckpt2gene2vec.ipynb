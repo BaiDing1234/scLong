{
 "cells": [
  {
   "cell_type": "code",
   "execution_count": 10,
   "metadata": {},
   "outputs": [],
   "source": [
    "import torch\n",
    "import numpy as np"
   ]
  },
  {
   "cell_type": "code",
   "execution_count": 11,
   "metadata": {},
   "outputs": [
    {
     "data": {
      "text/plain": [
       "torch.Size([27875, 200])"
      ]
     },
     "execution_count": 11,
     "metadata": {},
     "output_type": "execute_result"
    }
   ],
   "source": [
    "#ckpt=torch.load('/data3/ruiyi/scfm/gocont_4096_48m_pretrain_1b_mix_2024-01-31_16-04-29.pth',map_location='cpu')\n",
    "#ckpt=torch.load('/data3/ruiyi/scfm/gocont_27k_38m_pretrain_19.pth',map_location='cpu')\n",
    "ckpt=torch.load('/data3/ruiyi/scfmv2/gocont_2048_48m_pretrain_10m_mix_2024-02-28_23-47-26.pth',map_location='cpu')\n",
    "#gene2vec=ckpt['model_state_dict']['go_conv.emb.weight']\n",
    "gene2vec=ckpt['model_state_dict']['pos_emb.emb.weight']\n",
    "gene2vec.shape"
   ]
  },
  {
   "cell_type": "code",
   "execution_count": 12,
   "metadata": {},
   "outputs": [
    {
     "name": "stdout",
     "output_type": "stream",
     "text": [
      "torch.Size([27875, 200])\n"
     ]
    }
   ],
   "source": [
    "print(ckpt['model_state_dict']['pos_emb.emb.weight'].shape)"
   ]
  },
  {
   "cell_type": "code",
   "execution_count": 13,
   "metadata": {},
   "outputs": [],
   "source": [
    "#np.save('/data3/ruiyi/scfm/gene2vec_scfm_0131.npy',gene2vec[:-1].numpy())\n",
    "#np.save('/data3/ruiyi/scfm/gene2vec_scfm_10m.npy',gene2vec[:-1].numpy())\n",
    "np.save('/data3/ruiyi/scfmv2/gene2vec_scfm_10m_0228.npy',gene2vec[:-1].numpy())"
   ]
  },
  {
   "cell_type": "code",
   "execution_count": 14,
   "metadata": {},
   "outputs": [
    {
     "data": {
      "text/plain": [
       "(27874, 200)"
      ]
     },
     "execution_count": 14,
     "metadata": {},
     "output_type": "execute_result"
    }
   ],
   "source": [
    "gene2vec[:-1].numpy().shape"
   ]
  },
  {
   "cell_type": "code",
   "execution_count": null,
   "metadata": {},
   "outputs": [],
   "source": []
  }
 ],
 "metadata": {
  "kernelspec": {
   "display_name": "deepce",
   "language": "python",
   "name": "python3"
  },
  "language_info": {
   "codemirror_mode": {
    "name": "ipython",
    "version": 3
   },
   "file_extension": ".py",
   "mimetype": "text/x-python",
   "name": "python",
   "nbconvert_exporter": "python",
   "pygments_lexer": "ipython3",
   "version": "3.10.12"
  }
 },
 "nbformat": 4,
 "nbformat_minor": 2
}
