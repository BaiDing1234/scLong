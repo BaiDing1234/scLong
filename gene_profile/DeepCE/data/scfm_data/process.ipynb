{
 "cells": [
  {
   "cell_type": "code",
   "execution_count": 21,
   "metadata": {},
   "outputs": [],
   "source": [
    "import pandas as pd\n",
    "import numpy as np"
   ]
  },
  {
   "cell_type": "code",
   "execution_count": 39,
   "metadata": {},
   "outputs": [
    {
     "data": {
      "text/plain": [
       "Index(['sig_id', 'pert_id', 'pert_type', 'cell_id', 'pert_idose', 'DDR1',\n",
       "       'PAX8', 'RPS5', 'ABCF1', 'SPAG7',\n",
       "       ...\n",
       "       'P4HTM', 'SLC27A3', 'TBXA2R', 'RTN2', 'TSTA3', 'PPARD', 'GNA11',\n",
       "       'WDTC1', 'PLSCR3', 'NPEPL1'],\n",
       "      dtype='object', length=983)"
      ]
     },
     "execution_count": 39,
     "metadata": {},
     "output_type": "execute_result"
    }
   ],
   "source": [
    "split='dev'\n",
    "df=pd.read_csv('../signature_{}.csv'.format(split))\n",
    "\n",
    "df.keys()"
   ]
  },
  {
   "cell_type": "code",
   "execution_count": 40,
   "metadata": {},
   "outputs": [
    {
     "data": {
      "text/plain": [
       "(944, 16906)"
      ]
     },
     "execution_count": 40,
     "metadata": {},
     "output_type": "execute_result"
    }
   ],
   "source": [
    "cnt=0\n",
    "name2ens={}\n",
    "with open('/home/ruiyi/scfm/ensembl.txt') as f:\n",
    "    for l in f.readlines():\n",
    "        k,v=l.strip().split()\n",
    "        if k != 'SYMBOL':\n",
    "            if k in df.keys():cnt+=1\n",
    "            name2ens[k]=v\n",
    "cnt,len(name2ens)"
   ]
  },
  {
   "cell_type": "code",
   "execution_count": 41,
   "metadata": {},
   "outputs": [],
   "source": [
    "gene_list=[]\n",
    "with open('/data1/ruiyi/scfm/selected_genes_27k.txt') as f:\n",
    "    for l in f.readlines():\n",
    "        gene=l.strip()\n",
    "        gene_list.append(gene)"
   ]
  },
  {
   "cell_type": "code",
   "execution_count": 42,
   "metadata": {},
   "outputs": [
    {
     "data": {
      "text/plain": [
       "944"
      ]
     },
     "execution_count": 42,
     "metadata": {},
     "output_type": "execute_result"
    }
   ],
   "source": [
    "ens2idx={v:k for k,v in enumerate(gene_list)}\n",
    "name2idx={}\n",
    "for name in df.keys():\n",
    "    if name in name2ens:\n",
    "        ens=name2ens[name]\n",
    "        if ens in ens2idx:\n",
    "            idx=ens2idx[ens]\n",
    "            name2idx[name]=idx\n",
    "len(name2idx)"
   ]
  },
  {
   "cell_type": "code",
   "execution_count": 43,
   "metadata": {},
   "outputs": [],
   "source": [
    "data_np=np.zeros((len(df['cell_id']),len(gene_list)))"
   ]
  },
  {
   "cell_type": "code",
   "execution_count": 44,
   "metadata": {},
   "outputs": [],
   "source": [
    "for name in df.keys():\n",
    "    if name in name2idx:\n",
    "        data_np[:,name2idx[name]]=df[name]"
   ]
  },
  {
   "cell_type": "code",
   "execution_count": 45,
   "metadata": {},
   "outputs": [],
   "source": [
    "np.save('/data1/ruiyi/deepce/{}_scfm.npy'.format(split),data_np)"
   ]
  },
  {
   "cell_type": "code",
   "execution_count": null,
   "metadata": {},
   "outputs": [],
   "source": []
  }
 ],
 "metadata": {
  "kernelspec": {
   "display_name": "deepce",
   "language": "python",
   "name": "python3"
  },
  "language_info": {
   "codemirror_mode": {
    "name": "ipython",
    "version": 3
   },
   "file_extension": ".py",
   "mimetype": "text/x-python",
   "name": "python",
   "nbconvert_exporter": "python",
   "pygments_lexer": "ipython3",
   "version": "3.9.18"
  }
 },
 "nbformat": 4,
 "nbformat_minor": 2
}
