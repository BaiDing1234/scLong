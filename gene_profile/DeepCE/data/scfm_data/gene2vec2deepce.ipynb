{
 "cells": [
  {
   "cell_type": "code",
   "execution_count": 6,
   "metadata": {},
   "outputs": [],
   "source": [
    "import numpy as np\n",
    "import pandas as pd"
   ]
  },
  {
   "cell_type": "code",
   "execution_count": 7,
   "metadata": {},
   "outputs": [
    {
     "data": {
      "text/plain": [
       "(27874, 200)"
      ]
     },
     "execution_count": 7,
     "metadata": {},
     "output_type": "execute_result"
    }
   ],
   "source": [
    "#gene2vec_scfm=np.load('/data3/ruiyi/scfm/gene2vec_scfm_0131.npy')\n",
    "gene2vec_scfm=np.load('/data3/ruiyi/scfmv2/gene2vec_scfm_10m_0228.npy')\n",
    "gene2vec_scfm.shape"
   ]
  },
  {
   "cell_type": "code",
   "execution_count": 8,
   "metadata": {},
   "outputs": [],
   "source": [
    "split='train'\n",
    "df=pd.read_csv('../signature_{}.csv'.format(split))\n",
    "\n",
    "name2ens={}\n",
    "with open('/home/ruiyi/scfm/ensembl.txt') as f:\n",
    "    for l in f.readlines():\n",
    "        k,v=l.strip().split()\n",
    "        if k != 'SYMBOL':\n",
    "            name2ens[k]=v\n",
    "\n",
    "gene_list=[]\n",
    "with open('/data3/ruiyi/scfm/selected_genes_27k.txt') as f:\n",
    "    for l in f.readlines():\n",
    "        gene=l.strip()\n",
    "        gene_list.append(gene)\n",
    "\n",
    "ens2idx={v:k for k,v in enumerate(gene_list)}\n",
    "name2idx={}\n",
    "idx2idx={}\n",
    "for k,name in enumerate(df.keys()):\n",
    "    if name in name2ens:\n",
    "        \n",
    "        ens=name2ens[name]\n",
    "        if ens in ens2idx:\n",
    "            idx=ens2idx[ens]\n",
    "            name2idx[name]=idx\n",
    "            idx2idx[idx]=k-5\n",
    "\n"
   ]
  },
  {
   "cell_type": "code",
   "execution_count": 9,
   "metadata": {},
   "outputs": [
    {
     "data": {
      "text/plain": [
       "((978, 200), 944)"
      ]
     },
     "execution_count": 9,
     "metadata": {},
     "output_type": "execute_result"
    }
   ],
   "source": [
    "cnt=0\n",
    "deepce_scfm_embed=np.zeros((len(df.keys())-5,gene2vec_scfm.shape[-1]))\n",
    "for i in range(gene2vec_scfm.shape[0]):\n",
    "    if i in idx2idx:\n",
    "        cnt+=1\n",
    "        deepce_scfm_embed[idx2idx[i]]=gene2vec_scfm[i]\n",
    "deepce_scfm_embed.shape,cnt"
   ]
  },
  {
   "cell_type": "code",
   "execution_count": 10,
   "metadata": {},
   "outputs": [],
   "source": [
    "#np.save('/data1/ruiyi/deepce/deepce_scfm_0131_gene2vec_embed.npy',deepce_scfm_embed)\n",
    "np.save('/data1/ruiyi/deepce/deepce_scfmv2_10m_0228_gene2vec_embed.npy',deepce_scfm_embed)"
   ]
  },
  {
   "cell_type": "code",
   "execution_count": null,
   "metadata": {},
   "outputs": [],
   "source": []
  }
 ],
 "metadata": {
  "kernelspec": {
   "display_name": "deepce",
   "language": "python",
   "name": "python3"
  },
  "language_info": {
   "codemirror_mode": {
    "name": "ipython",
    "version": 3
   },
   "file_extension": ".py",
   "mimetype": "text/x-python",
   "name": "python",
   "nbconvert_exporter": "python",
   "pygments_lexer": "ipython3",
   "version": "3.9.18"
  }
 },
 "nbformat": 4,
 "nbformat_minor": 2
}
