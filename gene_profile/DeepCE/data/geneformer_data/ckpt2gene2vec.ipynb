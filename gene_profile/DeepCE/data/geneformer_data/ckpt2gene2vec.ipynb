{
 "cells": [
  {
   "cell_type": "code",
   "execution_count": 4,
   "metadata": {},
   "outputs": [],
   "source": [
    "from transformers import (\n",
    "    BertForMaskedLM,\n",
    "    BertForSequenceClassification,\n",
    "    BertForTokenClassification,\n",
    ")\n",
    "import pickle\n",
    "import numpy as np"
   ]
  },
  {
   "cell_type": "code",
   "execution_count": 3,
   "metadata": {},
   "outputs": [
    {
     "name": "stdout",
     "output_type": "stream",
     "text": [
      "torch.Size([25426, 256])\n"
     ]
    }
   ],
   "source": [
    "model = BertForSequenceClassification.from_pretrained('/home/ruiyi/geneformer/fine_tuned_models/geneformer-6L-30M_CellClassifier_cardiomyopathies_220224')\n",
    "\n",
    "embedding_matrix=model.bert.embeddings.word_embeddings.weight\n",
    "print(embedding_matrix.shape)"
   ]
  },
  {
   "cell_type": "code",
   "execution_count": 6,
   "metadata": {},
   "outputs": [],
   "source": [
    "np.save('/data3/ruiyi/geneformer/gene2vec_geneformer.npy',embedding_matrix.detach().numpy())"
   ]
  },
  {
   "cell_type": "code",
   "execution_count": null,
   "metadata": {},
   "outputs": [],
   "source": []
  }
 ],
 "metadata": {
  "kernelspec": {
   "display_name": "geneformer",
   "language": "python",
   "name": "python3"
  },
  "language_info": {
   "codemirror_mode": {
    "name": "ipython",
    "version": 3
   },
   "file_extension": ".py",
   "mimetype": "text/x-python",
   "name": "python",
   "nbconvert_exporter": "python",
   "pygments_lexer": "ipython3",
   "version": "3.10.14"
  }
 },
 "nbformat": 4,
 "nbformat_minor": 2
}
